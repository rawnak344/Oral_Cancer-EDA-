{
  "nbformat": 4,
  "nbformat_minor": 0,
  "metadata": {
    "colab": {
      "provenance": [],
      "include_colab_link": true
    },
    "kernelspec": {
      "name": "python3",
      "display_name": "Python 3"
    },
    "language_info": {
      "name": "python"
    }
  },
  "cells": [
    {
      "cell_type": "markdown",
      "metadata": {
        "id": "view-in-github",
        "colab_type": "text"
      },
      "source": [
        "<a href=\"https://colab.research.google.com/github/rawnak344/Oral_Cancer-EDA-/blob/main/Rawnak.ipynb\" target=\"_parent\"><img src=\"https://colab.research.google.com/assets/colab-badge.svg\" alt=\"Open In Colab\"/></a>"
      ]
    },
    {
      "cell_type": "code",
      "execution_count": null,
      "metadata": {
        "id": "eogfRUb6qyP5",
        "colab": {
          "base_uri": "https://localhost:8080/"
        },
        "outputId": "66995d08-04f0-4fc4-921f-965461318f7a"
      },
      "outputs": [
        {
          "output_type": "stream",
          "name": "stdout",
          "text": [
            "   Name  Gender       Age Alcohol Smoke Use Tobaco Smoking Family  \\\n",
            "0     1    Male  Above 40      No    No         No             No   \n",
            "1     2  Female  Above 40      No    No        Yes            Yes   \n",
            "2     3    Male     30-50      No   Yes         No             No   \n",
            "3     4  Female  Above 40      No    No         No             No   \n",
            "4     5  Female  Above 40      No    No        Yes            Yes   \n",
            "\n",
            "  Oral Hygiene Lack Nutrution papillomavirus Taking Betel Premalignent  \\\n",
            "0           No             No             No          Yes          Yes   \n",
            "1          Yes             No             No          Yes          Yes   \n",
            "2          Yes             No             No          Yes           No   \n",
            "3          Yes             No             No          Yes           No   \n",
            "4           No             No             No           No          Yes   \n",
            "\n",
            "  Gene Mutation Sharp Tooth  \n",
            "0            No          No  \n",
            "1            No         Yes  \n",
            "2            No          No  \n",
            "3            No          No  \n",
            "4            No          No  \n"
          ]
        }
      ],
      "source": [
        "import pandas as pd\n",
        "\n",
        "data = pd.read_excel('/content/Copy of Thesis.xlsx')\n",
        "print(data.head())"
      ]
    },
    {
      "cell_type": "code",
      "source": [
        "data.drop(columns=['Name','Age'],inplace= True)"
      ],
      "metadata": {
        "id": "hJ-gHhETQJ2R"
      },
      "execution_count": null,
      "outputs": []
    },
    {
      "cell_type": "code",
      "source": [
        "from collections import Counter\n",
        "count = {}\n",
        "for i in data.columns:\n",
        "    counter = Counter()\n",
        "    value ={i:dict(Counter(data[i]))}\n",
        "    count.update(value)"
      ],
      "metadata": {
        "id": "2YQ03PYHPvQd"
      },
      "execution_count": null,
      "outputs": []
    },
    {
      "cell_type": "code",
      "source": [
        "count"
      ],
      "metadata": {
        "colab": {
          "base_uri": "https://localhost:8080/"
        },
        "id": "dAXAstQaSMK5",
        "outputId": "b2fc8a27-731f-44bc-866c-ae32897a88c3"
      },
      "execution_count": null,
      "outputs": [
        {
          "output_type": "execute_result",
          "data": {
            "text/plain": [
              "{'Gender': {'Male': 287, 'Female': 458},\n",
              " 'Alcohol': {'No': 677, 'Yes': 68},\n",
              " 'Smoke': {'No': 430, 'Yes': 315},\n",
              " 'Use Tobaco': {'No': 474, 'Yes': 271},\n",
              " 'Smoking Family': {'No': 483, 'Yes': 262},\n",
              " 'Oral Hygiene': {'No': 481, 'Yes': 264},\n",
              " 'Lack Nutrution': {'No': 476, 'Yes': 269},\n",
              " 'papillomavirus': {'No': 495, 'Yes': 250},\n",
              " 'Taking Betel': {'Yes': 572, 'No': 173},\n",
              " 'Premalignent': {'Yes': 260, 'No': 485},\n",
              " 'Gene Mutation': {'No': 486, 'Yes': 259},\n",
              " 'Sharp Tooth': {'No': 411, 'Yes': 334}}"
            ]
          },
          "metadata": {},
          "execution_count": 20
        }
      ]
    },
    {
      "cell_type": "code",
      "source": [
        "percent = {}\n",
        "for key,value in count.items():\n",
        "    y = list(value.keys())[0]\n",
        "    z = list(value.keys())[1]\n",
        "    x = list(value.values())\n",
        "    percent1 = round(x[1]/sum(x)*100,2)\n",
        "    percent2 = round(100- percent1,2)\n",
        "    dictionary = {key:{y:percent1,\n",
        "                       z:(percent2),\n",
        "                       'Difference': round(abs(percent1-percent2),2)}}\n",
        "    percent.update(dictionary)\n",
        "\n"
      ],
      "metadata": {
        "id": "h0Do2V_BTIS1"
      },
      "execution_count": null,
      "outputs": []
    },
    {
      "cell_type": "code",
      "source": [
        "percent"
      ],
      "metadata": {
        "colab": {
          "base_uri": "https://localhost:8080/"
        },
        "id": "n4basFyhTn18",
        "outputId": "9df13367-4539-4cbb-f69b-7d9834faf9c7"
      },
      "execution_count": null,
      "outputs": [
        {
          "output_type": "execute_result",
          "data": {
            "text/plain": [
              "{'Gender': {'Male': 61.48, 'Female': 38.52, 'Difference': 22.96},\n",
              " 'Alcohol': {'No': 9.13, 'Yes': 90.87, 'Difference': 81.74},\n",
              " 'Smoke': {'No': 42.28, 'Yes': 57.72, 'Difference': 15.44},\n",
              " 'Use Tobaco': {'No': 36.38, 'Yes': 63.62, 'Difference': 27.24},\n",
              " 'Smoking Family': {'No': 35.17, 'Yes': 64.83, 'Difference': 29.66},\n",
              " 'Oral Hygiene': {'No': 35.44, 'Yes': 64.56, 'Difference': 29.12},\n",
              " 'Lack Nutrution': {'No': 36.11, 'Yes': 63.89, 'Difference': 27.78},\n",
              " 'papillomavirus': {'No': 33.56, 'Yes': 66.44, 'Difference': 32.88},\n",
              " 'Taking Betel': {'Yes': 23.22, 'No': 76.78, 'Difference': 53.56},\n",
              " 'Premalignent': {'Yes': 65.1, 'No': 34.9, 'Difference': 30.2},\n",
              " 'Gene Mutation': {'No': 34.77, 'Yes': 65.23, 'Difference': 30.46},\n",
              " 'Sharp Tooth': {'No': 44.83, 'Yes': 55.17, 'Difference': 10.34}}"
            ]
          },
          "metadata": {},
          "execution_count": 22
        }
      ]
    },
    {
      "cell_type": "code",
      "source": [
        "import matplotlib.pyplot as plt\n",
        "name = list(percent.keys())[1:]\n",
        "values =[y['Difference'] for x,y in list(percent.items())[1:]] \n",
        "print(name)"
      ],
      "metadata": {
        "colab": {
          "base_uri": "https://localhost:8080/"
        },
        "id": "CINKGKW9nSi1",
        "outputId": "73f4334f-8626-4b98-f377-d94ce01d4462"
      },
      "execution_count": null,
      "outputs": [
        {
          "output_type": "stream",
          "name": "stdout",
          "text": [
            "['Alcohol', 'Smoke', 'Use Tobaco', 'Smoking Family', 'Oral Hygiene', 'Lack Nutrution', 'papillomavirus', 'Taking Betel', 'Premalignent', 'Gene Mutation', 'Sharp Tooth']\n"
          ]
        }
      ]
    },
    {
      "cell_type": "code",
      "source": [
        "plt_1 = plt.figure(figsize=(20, 7))\n",
        "plt.bar(name, values)\n",
        "plt.xlabel('Conditions')\n",
        "plt.ylabel('Difference in %')\n",
        "plt.title('Effects')\n",
        " \n",
        "# To show this figure object, we use the line,\n",
        "# fig.show()\n",
        "plt.show()\n",
        "\n"
      ],
      "metadata": {
        "colab": {
          "base_uri": "https://localhost:8080/",
          "height": 337
        },
        "id": "9cgPrNBwtDJF",
        "outputId": "8d504cf0-2439-4af4-b39b-d9c26598f05d"
      },
      "execution_count": null,
      "outputs": [
        {
          "output_type": "display_data",
          "data": {
            "text/plain": [
              "<Figure size 1440x504 with 1 Axes>"
            ],
            "image/png": "[encoded data removed]"
          },
          "metadata": {
            "needs_background": "light"
          }
        }
      ]
    },
    {
      "cell_type": "code",
      "source": [
        "import matplotlib.pyplot as plt\n",
        "name2 = list(percent.keys())[1:]\n",
        "values2 =[y['Yes'] for x,y in list(percent.items())[1:]] \n",
        "print(name)"
      ],
      "metadata": {
        "colab": {
          "base_uri": "https://localhost:8080/"
        },
        "id": "g6xbs8eTtMgd",
        "outputId": "a5042a64-813f-4386-eb61-10e6492b1514"
      },
      "execution_count": null,
      "outputs": [
        {
          "output_type": "stream",
          "name": "stdout",
          "text": [
            "['Alcohol', 'Smoke', 'Use Tobaco', 'Smoking Family', 'Oral Hygiene', 'Lack Nutrution', 'papillomavirus', 'Taking Betel', 'Premalignent', 'Gene Mutation', 'Sharp Tooth']\n"
          ]
        }
      ]
    },
    {
      "cell_type": "code",
      "source": [
        "plt_1 = plt.figure(figsize=(20, 7))\n",
        "plt.bar(name2, values2)\n",
        "plt.xlabel('Conditions')\n",
        "plt.ylabel('Difference in %')\n",
        "plt.title('Existance of the conditions (yes)')\n",
        " \n",
        "# To show this figure object, we use the line,\n",
        "# fig.show()\n",
        "plt.show()"
      ],
      "metadata": {
        "colab": {
          "base_uri": "https://localhost:8080/",
          "height": 337
        },
        "id": "jWy7A8kMwctu",
        "outputId": "31fda2b8-2bb5-4425-ddb2-0d9c6756a9ca"
      },
      "execution_count": null,
      "outputs": [
        {
          "output_type": "display_data",
          "data": {
            "text/plain": [
              "<Figure size 1440x504 with 1 Axes>"
            ],
            "image/png": "[encoded data removed]"
          },
          "metadata": {
            "needs_background": "light"
          }
        }
      ]
    },
    {
      "cell_type": "code",
      "source": [
        "from sklearn.preprocessing import LabelEncoder\n",
        "lb = LabelEncoder()\n",
        "\n",
        "for i in data.columns:\n",
        "    data[i] = lb.fit_transform(data[i])\n",
        "    "
      ],
      "metadata": {
        "id": "xjIdL8anX3N6"
      },
      "execution_count": null,
      "outputs": []
    },
    {
      "cell_type": "code",
      "source": [
        "xtrain = data.iloc[:372,:]\n",
        "xtest = data.iloc[373:,:]"
      ],
      "metadata": {
        "id": "6B2QJ-otY8D2"
      },
      "execution_count": null,
      "outputs": []
    },
    {
      "cell_type": "code",
      "source": [
        "from sklearn.cluster import KMeans\n",
        "Sum_of_squared_distances = []\n",
        "K = range(1,3)\n",
        "for num_clusters in K :\n",
        "    kmeans = KMeans(n_clusters=num_clusters)\n",
        "    kmeans.fit(data)\n",
        "    Sum_of_squared_distances.append(kmeans.inertia_)\n",
        "plt.plot(K,Sum_of_squared_distances,'bx-')\n",
        "plt.xlabel('Values of K') \n",
        "plt.ylabel('Sum of squared distances/Inertia') \n",
        "plt.title('Elbow Method For Optimal k')\n",
        "plt.show()\n"
      ],
      "metadata": {
        "colab": {
          "base_uri": "https://localhost:8080/",
          "height": 295
        },
        "id": "SBI0ZS2iVUgr",
        "outputId": "f0c8669c-00fd-406a-eee1-49132b210335"
      },
      "execution_count": null,
      "outputs": [
        {
          "output_type": "display_data",
          "data": {
            "text/plain": [
              "<Figure size 432x288 with 1 Axes>"
            ],
            "image/png": "[encoded data removed]"
          },
          "metadata": {
            "needs_background": "light"
          }
        }
      ]
    },
    {
      "cell_type": "code",
      "source": [],
      "metadata": {
        "id": "PtTwSR6uh6sB"
      },
      "execution_count": null,
      "outputs": []
    }
  ]
}